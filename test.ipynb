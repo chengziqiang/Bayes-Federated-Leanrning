{
 "cells": [
  {
   "cell_type": "code",
   "execution_count": 120,
   "metadata": {},
   "outputs": [],
   "source": [
    "from BayesNet import BayesNet\n",
    "import torch\n",
    "import torch.nn as nn\n",
    "import torch.nn.functional as F\n",
    "from torchvision import datasets, transforms\n",
    "BATCH_SIZE = 100\n",
    "TEST_BATCH_SIZE = 5\n",
    "LOADER_KWARGS = {'num_workers': 1, 'pin_memory': True} if torch.cuda.is_available() else {}\n",
    "\n",
    "train_loader = torch.utils.data.DataLoader(\n",
    "    datasets.FashionMNIST(\n",
    "        './fmnist', train=True, download=True,\n",
    "        transform=transforms.ToTensor()),\n",
    "    batch_size=BATCH_SIZE, shuffle=True, **LOADER_KWARGS)\n",
    "test_loader = torch.utils.data.DataLoader(\n",
    "    datasets.FashionMNIST(\n",
    "        './fmnist', train=False, download=True,\n",
    "        transform=transforms.ToTensor()),\n",
    "    batch_size=TEST_BATCH_SIZE, shuffle=False, **LOADER_KWARGS)\n",
    "\n",
    "TRAIN_SIZE = len(train_loader.dataset)\n",
    "TEST_SIZE = len(test_loader.dataset)\n",
    "NUM_BATCHES = len(train_loader)\n",
    "NUM_TEST_BATCHES = len(test_loader)\n"
   ]
  },
  {
   "cell_type": "code",
   "execution_count": 121,
   "metadata": {},
   "outputs": [],
   "source": [
    "x = torch.tensor([[1.,1.]])"
   ]
  },
  {
   "cell_type": "code",
   "execution_count": 131,
   "metadata": {},
   "outputs": [
    {
     "name": "stdout",
     "output_type": "stream",
     "text": [
      "nj         df        \n"
     ]
    }
   ],
   "source": [
    "ostr = \"{} {}\"\n",
    "print(ostr.format(\"nj\".ljust(10), \"df\".ljust(10)))"
   ]
  },
  {
   "cell_type": "code",
   "execution_count": 142,
   "metadata": {},
   "outputs": [
    {
     "name": "stdout",
     "output_type": "stream",
     "text": [
      "NN阿静       你好        \n",
      "NN阿静上      你好        \n"
     ]
    }
   ],
   "source": [
    "ostr = \"{} {}\"\n",
    "print(ostr.format(\"NN阿静\".ljust(10), \"你好\".ljust(10)))\n",
    "print(ostr.format(\"NN阿静上\".ljust(10), \"你好\".ljust(10)))"
   ]
  },
  {
   "cell_type": "code",
   "execution_count": 179,
   "metadata": {},
   "outputs": [
    {
     "name": "stdout",
     "output_type": "stream",
     "text": [
      "loss1           loss1           ssjf            \n",
      "lossfgfgf1 lofgss1 sfgdgsjf\n"
     ]
    }
   ],
   "source": [
    "class Logger():\n",
    "    def __init__(self, columns, header=None, just='left' ,print=print):\n",
    "        self.level = 0\n",
    "        self.align = {\"center\": '^', \"left\": '<', \"right\": '>'}[just]\n",
    "        self.max_length = max(list(map(len, columns))+[10])+6\n",
    "        f = \"\"\n",
    "        for _ in range(len(columns)):\n",
    "            f += \"{{:{}{}}}\".format(self.align,self.max_length)\n",
    "        self.format = f.format\n",
    "        self.pf = print\n",
    "        if header is not None:\n",
    "            print(header)\n",
    "        print(self.format(*columns))\n",
    "    def pf(self, *args):\n",
    "        self.pf(self.format(*args))\n",
    "    def warning():\n",
    "        pass\n",
    "    def error():\n",
    "        pass\n",
    "    def info():\n",
    "        pass\n",
    "l = Logger([\"loss1\", 'loss1', \"ssjf\"])\n",
    "l.pf(\"lossfgfgf1\", 'lofgss1', \"sfgdgsjf\")"
   ]
  },
  {
   "cell_type": "code",
   "execution_count": 180,
   "metadata": {},
   "outputs": [
    {
     "data": {
      "text/plain": [
       "'01:23:04'"
      ]
     },
     "execution_count": 180,
     "metadata": {},
     "output_type": "execute_result"
    }
   ],
   "source": [
    "\"{:0>2}:{:0>2}:{:0>2}\".format(1,23,4)"
   ]
  }
 ],
 "metadata": {
  "kernelspec": {
   "display_name": "Python [conda env:root] *",
   "language": "python",
   "name": "conda-root-py"
  },
  "language_info": {
   "codemirror_mode": {
    "name": "ipython",
    "version": 3
   },
   "file_extension": ".py",
   "mimetype": "text/x-python",
   "name": "python",
   "nbconvert_exporter": "python",
   "pygments_lexer": "ipython3",
   "version": "3.8.6"
  }
 },
 "nbformat": 4,
 "nbformat_minor": 2
}
